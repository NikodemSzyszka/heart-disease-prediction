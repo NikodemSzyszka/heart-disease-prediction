{
  "nbformat": 4,
  "nbformat_minor": 0,
  "metadata": {
    "colab": {
      "name": "some models (2).ipynb",
      "provenance": []
    },
    "kernelspec": {
      "name": "python3",
      "display_name": "Python 3"
    },
    "language_info": {
      "name": "python"
    }
  },
  "cells": [
    {
      "cell_type": "code",
      "execution_count": 1,
      "metadata": {
        "id": "RW6IQt09pLjT"
      },
      "outputs": [],
      "source": [
        "import numpy as np\n",
        "import pandas as pd\n",
        "import matplotlib.pyplot as plt\n",
        "from sklearn import metrics\n",
        "from sklearn import preprocessing\n",
        "from sklearn.model_selection import train_test_split\n",
        "from sklearn.linear_model import LogisticRegression\n",
        "from sklearn.model_selection import GridSearchCV\n",
        "from sklearn.preprocessing import StandardScaler\n",
        "from sklearn.pipeline import Pipeline\n",
        "from sklearn.svm import SVC\n",
        "from sklearn.model_selection import StratifiedKFold\n",
        "from sklearn.tree import DecisionTreeClassifier\n",
        "from sklearn.ensemble import BaggingClassifier\n",
        "from sklearn.tree import DecisionTreeClassifier\n",
        "from sklearn.ensemble import RandomForestClassifier\n",
        "from sklearn.ensemble import ExtraTreesClassifier\n",
        "from sklearn.ensemble import AdaBoostClassifier\n",
        "from sklearn.tree import DecisionTreeClassifier\n",
        "from sklearn.ensemble import GradientBoostingClassifier\n",
        "from sklearn.model_selection import GridSearchCV, RandomizedSearchCV\n",
        "from xgboost import XGBClassifier\n",
        "from scipy.stats.distributions import uniform, randint\n",
        "from sklearn.ensemble import VotingClassifier"
      ]
    },
    {
      "cell_type": "code",
      "source": [
        "df = pd.read_csv('data.csv')\n",
        "df.head()"
      ],
      "metadata": {
        "colab": {
          "base_uri": "https://localhost:8080/",
          "height": 270
        },
        "id": "o---RCm1qNxH",
        "outputId": "13149dc9-71de-458b-a6d5-d4f89371a336"
      },
      "execution_count": 2,
      "outputs": [
        {
          "output_type": "execute_result",
          "data": {
            "text/plain": [
              "   age  sex  chest_pain_type  resting_blood_pressure  cholestoral  \\\n",
              "0   52    1                3                     125          212   \n",
              "1   53    1                3                     140          203   \n",
              "2   70    1                3                     145          174   \n",
              "3   61    1                3                     148          203   \n",
              "4   62    0                3                     138          294   \n",
              "\n",
              "   fasting_blood_sugar  rest_ecg  Max_heart_rate  exercise_induced_angina  \\\n",
              "0                    1       0.0             168                        0   \n",
              "1                    0       1.0             155                        1   \n",
              "2                    1       0.0             125                        1   \n",
              "3                    1       0.0             161                        0   \n",
              "4                    0       0.0             106                        0   \n",
              "\n",
              "   oldpeak  slope  thalassemia  target  \n",
              "0      1.0      0          1.0       0  \n",
              "1      3.1      2          1.0       0  \n",
              "2      2.6      2          1.0       0  \n",
              "3      0.0      0          1.0       0  \n",
              "4      1.9      1          0.0       0  "
            ],
            "text/html": [
              "\n",
              "  <div id=\"df-df164e3c-bce7-4942-a355-d88f4d3ad90d\">\n",
              "    <div class=\"colab-df-container\">\n",
              "      <div>\n",
              "<style scoped>\n",
              "    .dataframe tbody tr th:only-of-type {\n",
              "        vertical-align: middle;\n",
              "    }\n",
              "\n",
              "    .dataframe tbody tr th {\n",
              "        vertical-align: top;\n",
              "    }\n",
              "\n",
              "    .dataframe thead th {\n",
              "        text-align: right;\n",
              "    }\n",
              "</style>\n",
              "<table border=\"1\" class=\"dataframe\">\n",
              "  <thead>\n",
              "    <tr style=\"text-align: right;\">\n",
              "      <th></th>\n",
              "      <th>age</th>\n",
              "      <th>sex</th>\n",
              "      <th>chest_pain_type</th>\n",
              "      <th>resting_blood_pressure</th>\n",
              "      <th>cholestoral</th>\n",
              "      <th>fasting_blood_sugar</th>\n",
              "      <th>rest_ecg</th>\n",
              "      <th>Max_heart_rate</th>\n",
              "      <th>exercise_induced_angina</th>\n",
              "      <th>oldpeak</th>\n",
              "      <th>slope</th>\n",
              "      <th>thalassemia</th>\n",
              "      <th>target</th>\n",
              "    </tr>\n",
              "  </thead>\n",
              "  <tbody>\n",
              "    <tr>\n",
              "      <th>0</th>\n",
              "      <td>52</td>\n",
              "      <td>1</td>\n",
              "      <td>3</td>\n",
              "      <td>125</td>\n",
              "      <td>212</td>\n",
              "      <td>1</td>\n",
              "      <td>0.0</td>\n",
              "      <td>168</td>\n",
              "      <td>0</td>\n",
              "      <td>1.0</td>\n",
              "      <td>0</td>\n",
              "      <td>1.0</td>\n",
              "      <td>0</td>\n",
              "    </tr>\n",
              "    <tr>\n",
              "      <th>1</th>\n",
              "      <td>53</td>\n",
              "      <td>1</td>\n",
              "      <td>3</td>\n",
              "      <td>140</td>\n",
              "      <td>203</td>\n",
              "      <td>0</td>\n",
              "      <td>1.0</td>\n",
              "      <td>155</td>\n",
              "      <td>1</td>\n",
              "      <td>3.1</td>\n",
              "      <td>2</td>\n",
              "      <td>1.0</td>\n",
              "      <td>0</td>\n",
              "    </tr>\n",
              "    <tr>\n",
              "      <th>2</th>\n",
              "      <td>70</td>\n",
              "      <td>1</td>\n",
              "      <td>3</td>\n",
              "      <td>145</td>\n",
              "      <td>174</td>\n",
              "      <td>1</td>\n",
              "      <td>0.0</td>\n",
              "      <td>125</td>\n",
              "      <td>1</td>\n",
              "      <td>2.6</td>\n",
              "      <td>2</td>\n",
              "      <td>1.0</td>\n",
              "      <td>0</td>\n",
              "    </tr>\n",
              "    <tr>\n",
              "      <th>3</th>\n",
              "      <td>61</td>\n",
              "      <td>1</td>\n",
              "      <td>3</td>\n",
              "      <td>148</td>\n",
              "      <td>203</td>\n",
              "      <td>1</td>\n",
              "      <td>0.0</td>\n",
              "      <td>161</td>\n",
              "      <td>0</td>\n",
              "      <td>0.0</td>\n",
              "      <td>0</td>\n",
              "      <td>1.0</td>\n",
              "      <td>0</td>\n",
              "    </tr>\n",
              "    <tr>\n",
              "      <th>4</th>\n",
              "      <td>62</td>\n",
              "      <td>0</td>\n",
              "      <td>3</td>\n",
              "      <td>138</td>\n",
              "      <td>294</td>\n",
              "      <td>0</td>\n",
              "      <td>0.0</td>\n",
              "      <td>106</td>\n",
              "      <td>0</td>\n",
              "      <td>1.9</td>\n",
              "      <td>1</td>\n",
              "      <td>0.0</td>\n",
              "      <td>0</td>\n",
              "    </tr>\n",
              "  </tbody>\n",
              "</table>\n",
              "</div>\n",
              "      <button class=\"colab-df-convert\" onclick=\"convertToInteractive('df-df164e3c-bce7-4942-a355-d88f4d3ad90d')\"\n",
              "              title=\"Convert this dataframe to an interactive table.\"\n",
              "              style=\"display:none;\">\n",
              "        \n",
              "  <svg xmlns=\"http://www.w3.org/2000/svg\" height=\"24px\"viewBox=\"0 0 24 24\"\n",
              "       width=\"24px\">\n",
              "    <path d=\"M0 0h24v24H0V0z\" fill=\"none\"/>\n",
              "    <path d=\"M18.56 5.44l.94 2.06.94-2.06 2.06-.94-2.06-.94-.94-2.06-.94 2.06-2.06.94zm-11 1L8.5 8.5l.94-2.06 2.06-.94-2.06-.94L8.5 2.5l-.94 2.06-2.06.94zm10 10l.94 2.06.94-2.06 2.06-.94-2.06-.94-.94-2.06-.94 2.06-2.06.94z\"/><path d=\"M17.41 7.96l-1.37-1.37c-.4-.4-.92-.59-1.43-.59-.52 0-1.04.2-1.43.59L10.3 9.45l-7.72 7.72c-.78.78-.78 2.05 0 2.83L4 21.41c.39.39.9.59 1.41.59.51 0 1.02-.2 1.41-.59l7.78-7.78 2.81-2.81c.8-.78.8-2.07 0-2.86zM5.41 20L4 18.59l7.72-7.72 1.47 1.35L5.41 20z\"/>\n",
              "  </svg>\n",
              "      </button>\n",
              "      \n",
              "  <style>\n",
              "    .colab-df-container {\n",
              "      display:flex;\n",
              "      flex-wrap:wrap;\n",
              "      gap: 12px;\n",
              "    }\n",
              "\n",
              "    .colab-df-convert {\n",
              "      background-color: #E8F0FE;\n",
              "      border: none;\n",
              "      border-radius: 50%;\n",
              "      cursor: pointer;\n",
              "      display: none;\n",
              "      fill: #1967D2;\n",
              "      height: 32px;\n",
              "      padding: 0 0 0 0;\n",
              "      width: 32px;\n",
              "    }\n",
              "\n",
              "    .colab-df-convert:hover {\n",
              "      background-color: #E2EBFA;\n",
              "      box-shadow: 0px 1px 2px rgba(60, 64, 67, 0.3), 0px 1px 3px 1px rgba(60, 64, 67, 0.15);\n",
              "      fill: #174EA6;\n",
              "    }\n",
              "\n",
              "    [theme=dark] .colab-df-convert {\n",
              "      background-color: #3B4455;\n",
              "      fill: #D2E3FC;\n",
              "    }\n",
              "\n",
              "    [theme=dark] .colab-df-convert:hover {\n",
              "      background-color: #434B5C;\n",
              "      box-shadow: 0px 1px 3px 1px rgba(0, 0, 0, 0.15);\n",
              "      filter: drop-shadow(0px 1px 2px rgba(0, 0, 0, 0.3));\n",
              "      fill: #FFFFFF;\n",
              "    }\n",
              "  </style>\n",
              "\n",
              "      <script>\n",
              "        const buttonEl =\n",
              "          document.querySelector('#df-df164e3c-bce7-4942-a355-d88f4d3ad90d button.colab-df-convert');\n",
              "        buttonEl.style.display =\n",
              "          google.colab.kernel.accessAllowed ? 'block' : 'none';\n",
              "\n",
              "        async function convertToInteractive(key) {\n",
              "          const element = document.querySelector('#df-df164e3c-bce7-4942-a355-d88f4d3ad90d');\n",
              "          const dataTable =\n",
              "            await google.colab.kernel.invokeFunction('convertToInteractive',\n",
              "                                                     [key], {});\n",
              "          if (!dataTable) return;\n",
              "\n",
              "          const docLinkHtml = 'Like what you see? Visit the ' +\n",
              "            '<a target=\"_blank\" href=https://colab.research.google.com/notebooks/data_table.ipynb>data table notebook</a>'\n",
              "            + ' to learn more about interactive tables.';\n",
              "          element.innerHTML = '';\n",
              "          dataTable['output_type'] = 'display_data';\n",
              "          await google.colab.output.renderOutput(dataTable, element);\n",
              "          const docLink = document.createElement('div');\n",
              "          docLink.innerHTML = docLinkHtml;\n",
              "          element.appendChild(docLink);\n",
              "        }\n",
              "      </script>\n",
              "    </div>\n",
              "  </div>\n",
              "  "
            ]
          },
          "metadata": {},
          "execution_count": 2
        }
      ]
    },
    {
      "cell_type": "code",
      "source": [
        "from sklearn.model_selection import train_test_split\n",
        "\n",
        "X_train, X_test, y_train, y_test = train_test_split(df.drop('target', axis=1),\n",
        "                                                    df['target'],\n",
        "                                                    test_size=0.20,\n",
        "                                                    random_state=42)\n",
        "\n",
        "print('Train:', y_train.size,'Test:', y_test.size)\n",
        "kfold = StratifiedKFold(n_splits=5, random_state=None)"
      ],
      "metadata": {
        "colab": {
          "base_uri": "https://localhost:8080/"
        },
        "id": "zon0xZ0IqRaR",
        "outputId": "cdf41140-f11a-4b43-e2d6-de617ba28b2f"
      },
      "execution_count": 3,
      "outputs": [
        {
          "output_type": "stream",
          "name": "stdout",
          "text": [
            "Train: 820 Test: 205\n"
          ]
        }
      ]
    },
    {
      "cell_type": "code",
      "source": [
        "pipe = Pipeline([('preprocessing', StandardScaler()), ('classifier', SVC(kernel='linear', probability=True))])\n",
        "param_grid = {\n",
        "            'preprocessing': [StandardScaler(),],\n",
        "            'classifier__C': [0.0001, 0.0005, 0.001, 0.005, 0.01, 0.1, 1, 10, 30, 50, 80, 100]\n",
        "}\n",
        "grid_linear_SVM = GridSearchCV(pipe, param_grid, cv=kfold, return_train_score=True)\n",
        "grid_linear_SVM.fit(X_train, y_train)\n",
        "grid_linear_SVM.best_params_"
      ],
      "metadata": {
        "colab": {
          "base_uri": "https://localhost:8080/"
        },
        "id": "iaQEQKmxquuZ",
        "outputId": "403b685c-9e2e-44ed-8256-29489c3523e8"
      },
      "execution_count": 4,
      "outputs": [
        {
          "output_type": "execute_result",
          "data": {
            "text/plain": [
              "{'classifier__C': 0.001, 'preprocessing': StandardScaler()}"
            ]
          },
          "metadata": {},
          "execution_count": 4
        }
      ]
    },
    {
      "cell_type": "code",
      "source": [
        "pipe = Pipeline([('preprocessing', StandardScaler()), ('classifier', SVC(kernel='rbf', probability=True))])\n",
        "\n",
        "param_grid = {\n",
        "            'classifier__gamma': [0.0001, 0.0005, 0.001, 0.005, 0.01, 0.1, 1, 10, 30, 50, 80, 100],\n",
        "            'classifier__C': [0.0001, 0.0005, 0.001, 0.005, 0.01, 0.1, 1, 10, 30, 50, 80, 100]\n",
        "}\n",
        "\n",
        "grid_rbf_SVM = GridSearchCV(pipe, param_grid, cv=kfold, return_train_score=True)\n",
        "grid_rbf_SVM.fit(X_train, y_train)\n",
        "grid_rbf_SVM.best_params_"
      ],
      "metadata": {
        "colab": {
          "base_uri": "https://localhost:8080/"
        },
        "id": "5eCw8PF1qU8i",
        "outputId": "502fddfa-330a-4a58-9b21-58e4ff651464"
      },
      "execution_count": 5,
      "outputs": [
        {
          "output_type": "execute_result",
          "data": {
            "text/plain": [
              "{'classifier__C': 50, 'classifier__gamma': 0.1}"
            ]
          },
          "metadata": {},
          "execution_count": 5
        }
      ]
    },
    {
      "cell_type": "code",
      "source": [
        "pipe = Pipeline([('preprocessing', StandardScaler()), ('classifier', SVC(kernel='poly', probability=True))])\n",
        "param_grid = {\n",
        "            'classifier__C': [0.0001, 0.0005, 0.001, 0.005, 0.01, 0.1, 1, 10, 30, 50, 80, 100]\n",
        "}\n",
        "grid_poly_SVM = GridSearchCV(pipe, param_grid, cv=kfold, return_train_score=True)\n",
        "grid_poly_SVM.fit(X_train, y_train)\n",
        "grid_poly_SVM.best_params_"
      ],
      "metadata": {
        "colab": {
          "base_uri": "https://localhost:8080/"
        },
        "id": "SuvwjE_8q3OU",
        "outputId": "96098fc2-8ebb-42d6-9b96-9cd62bc6fca8"
      },
      "execution_count": 6,
      "outputs": [
        {
          "output_type": "execute_result",
          "data": {
            "text/plain": [
              "{'classifier__C': 50}"
            ]
          },
          "metadata": {},
          "execution_count": 6
        }
      ]
    },
    {
      "cell_type": "code",
      "source": [
        "import warnings\n",
        "warnings.filterwarnings(\"ignore\")"
      ],
      "metadata": {
        "id": "KQwYGtIRsBdI"
      },
      "execution_count": 7,
      "outputs": []
    },
    {
      "cell_type": "code",
      "source": [
        "pipe = Pipeline([('preprocessing', StandardScaler()), ('classifier', LogisticRegression())])\n",
        "param_grid = {\n",
        "            'classifier__C': [0.0001, 0.0005, 0.001, 0.005, 0.01, 0.1, 1, 10, 30, 50, 80, 100],\n",
        "            'classifier__penalty': ['l1', 'l2', 'elasticnet', 'none'],\n",
        "}\n",
        "grid_LR = GridSearchCV(pipe, param_grid, cv=kfold, return_train_score=True)\n",
        "grid_LR.fit(X_train, y_train)\n",
        "grid_LR.best_params_"
      ],
      "metadata": {
        "colab": {
          "base_uri": "https://localhost:8080/"
        },
        "id": "ddqJBCc-qxet",
        "outputId": "3cd3e261-0651-4dbf-dccc-5ff295ef6b2f"
      },
      "execution_count": 8,
      "outputs": [
        {
          "output_type": "execute_result",
          "data": {
            "text/plain": [
              "{'classifier__C': 0.001, 'classifier__penalty': 'l2'}"
            ]
          },
          "metadata": {},
          "execution_count": 8
        }
      ]
    },
    {
      "cell_type": "code",
      "source": [
        "pipe = Pipeline([('preprocessing', StandardScaler()), ('classifier', DecisionTreeClassifier())])\n",
        "\n",
        "param_grid = {\n",
        "            'classifier__max_depth': [5,10,15,20,25,30, 35, 40],\n",
        "            'classifier__min_samples_split': [2,3,4,5,10,15,20],\n",
        "            'classifier__max_leaf_nodes': [3,5,10,15,20,25,30,40, 50, 60]\n",
        "}\n",
        "\n",
        "grid_DT = GridSearchCV(pipe, param_grid, cv=kfold, return_train_score=True)\n",
        "grid_DT.fit(X_train, y_train)\n",
        "grid_DT.best_params_"
      ],
      "metadata": {
        "colab": {
          "base_uri": "https://localhost:8080/"
        },
        "id": "frBLaoExrhld",
        "outputId": "fa6bd1df-293f-4801-a5a6-6ad01def60ff"
      },
      "execution_count": 9,
      "outputs": [
        {
          "output_type": "execute_result",
          "data": {
            "text/plain": [
              "{'classifier__max_depth': 15,\n",
              " 'classifier__max_leaf_nodes': 60,\n",
              " 'classifier__min_samples_split': 3}"
            ]
          },
          "metadata": {},
          "execution_count": 9
        }
      ]
    },
    {
      "cell_type": "code",
      "source": [
        "pipe = Pipeline([('preprocessing', StandardScaler()), ('classifier', BaggingClassifier(\n",
        "                                    DecisionTreeClassifier(random_state=42), n_estimators=500,\n",
        "                                    max_samples=100, bootstrap=True, random_state=42))])\n",
        "\n",
        "param_grid = {'classifier__n_estimators': [50, 100, 200,300, 400],\n",
        "              'classifier__max_samples': [50, 100, 200, 300, 400],\n",
        "              'classifier__base_estimator__max_depth':[2, 5, 10, 20, 30]\n",
        "             }\n",
        "\n",
        "grid_BDT = GridSearchCV(pipe, param_grid, cv=kfold, return_train_score=True)\n",
        "grid_BDT.fit(X_train, y_train)\n",
        "grid_BDT.best_params_"
      ],
      "metadata": {
        "colab": {
          "base_uri": "https://localhost:8080/"
        },
        "id": "yMYPazcKtBpG",
        "outputId": "2ff20de5-fb1a-46b5-e230-55f64da81633"
      },
      "execution_count": 10,
      "outputs": [
        {
          "output_type": "execute_result",
          "data": {
            "text/plain": [
              "{'classifier__base_estimator__max_depth': 10,\n",
              " 'classifier__max_samples': 400,\n",
              " 'classifier__n_estimators': 100}"
            ]
          },
          "metadata": {},
          "execution_count": 10
        }
      ]
    },
    {
      "cell_type": "code",
      "source": [
        "pipe = Pipeline([('preprocessing', StandardScaler()), ('classifier', RandomForestClassifier(n_estimators=50, max_leaf_nodes=10))])\n",
        "\n",
        "param_grid = {'classifier__n_estimators': [10, 50, 100, 200, 300],\n",
        "              'classifier__max_leaf_nodes': [10, 20, 30, 40, 50],\n",
        "              'classifier__max_depth': [5, 10, 15, 20]\n",
        "             }\n",
        "\n",
        "grid_RF = GridSearchCV(pipe, param_grid, cv=kfold, return_train_score=True)\n",
        "grid_RF.fit(X_train, y_train)\n",
        "grid_RF.best_params_"
      ],
      "metadata": {
        "colab": {
          "base_uri": "https://localhost:8080/"
        },
        "id": "gFlU4CvGtYql",
        "outputId": "d8ef7c97-4f12-4088-d5c9-0485c02a7621"
      },
      "execution_count": 11,
      "outputs": [
        {
          "output_type": "execute_result",
          "data": {
            "text/plain": [
              "{'classifier__max_depth': 10,\n",
              " 'classifier__max_leaf_nodes': 50,\n",
              " 'classifier__n_estimators': 200}"
            ]
          },
          "metadata": {},
          "execution_count": 11
        }
      ]
    },
    {
      "cell_type": "code",
      "source": [
        "pipe = Pipeline([('preprocessing', StandardScaler()), ('classifier', ExtraTreesClassifier(n_estimators=500, max_leaf_nodes=16))])\n",
        "\n",
        "param_grid = {'classifier__n_estimators': [10, 50, 100, 200, 300],\n",
        "              'classifier__max_leaf_nodes': [10, 20, 30, 40, 50],\n",
        "              'classifier__max_depth': [5, 10, 15, 20]\n",
        "             }\n",
        "\n",
        "grid_ET = GridSearchCV(pipe, param_grid, cv=kfold, return_train_score=True)\n",
        "grid_ET.fit(X_train, y_train)\n",
        "grid_ET.best_params_"
      ],
      "metadata": {
        "colab": {
          "base_uri": "https://localhost:8080/"
        },
        "id": "UojHquIwtmtB",
        "outputId": "3fc2acee-19f9-4e26-f89e-59e8d83d031d"
      },
      "execution_count": 12,
      "outputs": [
        {
          "output_type": "execute_result",
          "data": {
            "text/plain": [
              "{'classifier__max_depth': 20,\n",
              " 'classifier__max_leaf_nodes': 50,\n",
              " 'classifier__n_estimators': 50}"
            ]
          },
          "metadata": {},
          "execution_count": 12
        }
      ]
    },
    {
      "cell_type": "code",
      "source": [
        "pipe = Pipeline([('preprocessing', StandardScaler()), ('classifier', AdaBoostClassifier(\n",
        "                                DecisionTreeClassifier(random_state=42),\n",
        "                                n_estimators=500, learning_rate=0.5, random_state=42))])\n",
        "\n",
        "param_grid = {'classifier__n_estimators': [50, 100, 200,300,400],\n",
        "              'classifier__learning_rate': [0.01, 0.05, 0.1,0.2,0.3,0.4, 0.5, 0.6, 0.7, 0.8, 0.9,1]\n",
        "             }\n",
        "\n",
        "grid_Ada = GridSearchCV(pipe, param_grid, cv=kfold, return_train_score=True)\n",
        "grid_Ada.fit(X_train, y_train)\n",
        "grid_Ada.best_params_"
      ],
      "metadata": {
        "colab": {
          "base_uri": "https://localhost:8080/"
        },
        "id": "Dtwt-Al9toJR",
        "outputId": "66e0ac47-9074-4332-c248-8f7a93c0d472"
      },
      "execution_count": 13,
      "outputs": [
        {
          "output_type": "execute_result",
          "data": {
            "text/plain": [
              "{'classifier__learning_rate': 0.01, 'classifier__n_estimators': 50}"
            ]
          },
          "metadata": {},
          "execution_count": 13
        }
      ]
    },
    {
      "cell_type": "code",
      "source": [
        "pipe = Pipeline([('preprocessing', StandardScaler()), ('classifier', GradientBoostingClassifier(\n",
        "                       n_estimators=100, learning_rate=0.5, random_state=42))])\n",
        "\n",
        "\n",
        "param_grid = {'classifier__n_estimators': [50, 100, 200, 300, 400, 500],\n",
        "              'classifier__learning_rate': [0.01, 0.05, 0.1,0.2,0.3,0.4, 0.5, 0.6, 0.7, 0.8, 0.9,1]\n",
        "             }\n",
        "\n",
        "grid_GB = GridSearchCV(pipe, param_grid, cv=kfold, return_train_score=True)\n",
        "grid_GB.fit(X_train, y_train)\n",
        "grid_GB.best_params_"
      ],
      "metadata": {
        "colab": {
          "base_uri": "https://localhost:8080/"
        },
        "id": "QEFFvz3otpqp",
        "outputId": "3d3ff9c8-63c0-4596-c036-eec9c9b45034"
      },
      "execution_count": 14,
      "outputs": [
        {
          "output_type": "execute_result",
          "data": {
            "text/plain": [
              "{'classifier__learning_rate': 0.4, 'classifier__n_estimators': 400}"
            ]
          },
          "metadata": {},
          "execution_count": 14
        }
      ]
    },
    {
      "cell_type": "code",
      "source": [
        "pipe = Pipeline([('preprocessing', StandardScaler()), ('classifier', XGBClassifier(n_jobs=-1))])\n",
        "grid_XGB = RandomizedSearchCV(n_iter=200, estimator=pipe, cv=kfold, \n",
        "                              param_distributions={'classifier__max_depth': randint(2, 20),\n",
        "                                                   'classifier__learning_rate': uniform(0.001, 0.1),\n",
        "                                                    'classifier__n_estimators': randint(50, 500),\n",
        "                                                    'classifier__gamma': uniform(0,3),\n",
        "                                                    'classifier__colsample_bytree': uniform(0.2, 0.8),\n",
        "                                                    'classifier__subsample': uniform(0.2, 0.8),\n",
        "                                                    'classifier__min_child_weight': randint(1, 10)\n",
        "                                                  },return_train_score=True)\n",
        "\n",
        "grid_XGB.fit(X_train, y_train)\n",
        "grid_XGB.best_params_"
      ],
      "metadata": {
        "colab": {
          "base_uri": "https://localhost:8080/"
        },
        "id": "Pu4gcPaAtwsi",
        "outputId": "8e195d52-dc7a-46c3-d8ad-73c7885fb2e1"
      },
      "execution_count": 15,
      "outputs": [
        {
          "output_type": "execute_result",
          "data": {
            "text/plain": [
              "{'classifier__colsample_bytree': 0.41676631103662026,\n",
              " 'classifier__gamma': 0.7890454463800439,\n",
              " 'classifier__learning_rate': 0.078879041237583,\n",
              " 'classifier__max_depth': 16,\n",
              " 'classifier__min_child_weight': 1,\n",
              " 'classifier__n_estimators': 436,\n",
              " 'classifier__subsample': 0.9637365643518319}"
            ]
          },
          "metadata": {},
          "execution_count": 15
        }
      ]
    },
    {
      "cell_type": "code",
      "source": [
        "voting_clf = VotingClassifier(estimators=[\n",
        "                                          ('linear SVM', grid_linear_SVM.best_estimator_),\n",
        "                                          ('rbf_SVM', grid_rbf_SVM.best_estimator_), \n",
        "                                          ('poly SVM', grid_poly_SVM.best_estimator_),       \n",
        "                                          ('LogisticRegression', grid_LR.best_estimator_),\n",
        "                                          ('DecisionTree', grid_DT.best_estimator_),\n",
        "                                          ('BaggingDecisionTree', grid_BDT.best_estimator_),\n",
        "                                          ('RandomForest', grid_RF.best_estimator_),\n",
        "                                          ('ExtraTrees', grid_ET.best_estimator_),\n",
        "                                          ('AdaBoost', grid_Ada.best_estimator_),\n",
        "                                          ('GradientBoosting', grid_GB.best_estimator_), \n",
        "                                          ('XGB', grid_XGB.best_estimator_),\n",
        "                                          ],voting='soft')\n",
        "voting_clf.fit(X_train, y_train);\n"
      ],
      "metadata": {
        "id": "hFB7-Vdut0Le"
      },
      "execution_count": 16,
      "outputs": []
    },
    {
      "cell_type": "code",
      "source": [
        "from sklearn import  metrics\n",
        "\n",
        "\n",
        "models = [('linear SVM', grid_linear_SVM.best_estimator_),\n",
        "        ('rbf SVM', grid_rbf_SVM.best_estimator_), \n",
        "        ('poly SVM', grid_poly_SVM.best_estimator_),       \n",
        "        ('LogisticRegression', grid_LR.best_estimator_),\n",
        "        ('DecisionTree', grid_DT.best_estimator_),\n",
        "        ('BaggingDecisionTree', grid_BDT.best_estimator_),\n",
        "        ('RandomForest', grid_RF.best_estimator_),\n",
        "        ('ExtraTrees', grid_ET.best_estimator_),\n",
        "        ('AdaBoost', grid_Ada.best_estimator_),\n",
        "        ('GradientBoosting', grid_GB.best_estimator_), \n",
        "        ('XGB', grid_XGB.best_estimator_),\n",
        "        ('Voting',  voting_clf)]\n",
        "\n",
        "precision_score = []\n",
        "recall_score = []\n",
        "f1_score = []\n",
        "accuracy_score = []\n",
        "for name, model in models:\n",
        "    y_pred = model.predict(X_test)\n",
        "    precision_score.append(metrics.precision_score(y_test, y_pred))\n",
        "    recall_score.append(metrics.recall_score(y_test, y_pred))\n",
        "    f1_score.append( metrics.f1_score(y_test, y_pred))\n",
        "    accuracy_score.append(metrics.accuracy_score(y_test, y_pred))\n",
        "res_labels = {'precision_score': precision_score, \n",
        "     'recall_score': recall_score, \n",
        "     'f1_score': f1_score,\n",
        "     'accuracy_score' : accuracy_score,\n",
        "    }\n",
        "res_df = pd.DataFrame(data=res_labels)\n",
        "res_df.insert(loc=0, column='Method', value=[model[0] for model in models])\n",
        "def highlight_max(s):\n",
        "    is_large, is_max = s.nlargest(4).values, s.nlargest(1).values\n",
        "    \n",
        "    return ['color: lightgreen' if v in is_max else 'color: green' if v in is_large else '' for v in s]\n",
        "\n",
        "res_df.style.apply(highlight_max, subset=['precision_score',\t'recall_score',\t'f1_score','accuracy_score'])"
      ],
      "metadata": {
        "colab": {
          "base_uri": "https://localhost:8080/",
          "height": 426
        },
        "id": "ABbn8-5uyCLu",
        "outputId": "2f4cfa27-e74c-491f-a1ac-b5c0b6e107b0"
      },
      "execution_count": 23,
      "outputs": [
        {
          "output_type": "execute_result",
          "data": {
            "text/plain": [
              "<pandas.io.formats.style.Styler at 0x7f6e065ddf90>"
            ],
            "text/html": [
              "<style type=\"text/css\">\n",
              "#T_8aaa5_row1_col1, #T_8aaa5_row2_col1, #T_8aaa5_row4_col1, #T_8aaa5_row5_col2, #T_8aaa5_row8_col1, #T_8aaa5_row9_col1, #T_8aaa5_row9_col2, #T_8aaa5_row9_col3, #T_8aaa5_row9_col4, #T_8aaa5_row10_col1, #T_8aaa5_row11_col1, #T_8aaa5_row11_col2, #T_8aaa5_row11_col3, #T_8aaa5_row11_col4 {\n",
              "  color: lightgreen;\n",
              "}\n",
              "#T_8aaa5_row1_col3, #T_8aaa5_row1_col4, #T_8aaa5_row4_col3, #T_8aaa5_row4_col4, #T_8aaa5_row6_col2, #T_8aaa5_row8_col3, #T_8aaa5_row8_col4, #T_8aaa5_row10_col3, #T_8aaa5_row10_col4 {\n",
              "  color: green;\n",
              "}\n",
              "</style>\n",
              "<table id=\"T_8aaa5_\" class=\"dataframe\">\n",
              "  <thead>\n",
              "    <tr>\n",
              "      <th class=\"blank level0\" >&nbsp;</th>\n",
              "      <th class=\"col_heading level0 col0\" >Method</th>\n",
              "      <th class=\"col_heading level0 col1\" >precision_score</th>\n",
              "      <th class=\"col_heading level0 col2\" >recall_score</th>\n",
              "      <th class=\"col_heading level0 col3\" >f1_score</th>\n",
              "      <th class=\"col_heading level0 col4\" >accuracy_score</th>\n",
              "    </tr>\n",
              "  </thead>\n",
              "  <tbody>\n",
              "    <tr>\n",
              "      <th id=\"T_8aaa5_level0_row0\" class=\"row_heading level0 row0\" >0</th>\n",
              "      <td id=\"T_8aaa5_row0_col0\" class=\"data row0 col0\" >linear SVM</td>\n",
              "      <td id=\"T_8aaa5_row0_col1\" class=\"data row0 col1\" >0.745902</td>\n",
              "      <td id=\"T_8aaa5_row0_col2\" class=\"data row0 col2\" >0.883495</td>\n",
              "      <td id=\"T_8aaa5_row0_col3\" class=\"data row0 col3\" >0.808889</td>\n",
              "      <td id=\"T_8aaa5_row0_col4\" class=\"data row0 col4\" >0.790244</td>\n",
              "    </tr>\n",
              "    <tr>\n",
              "      <th id=\"T_8aaa5_level0_row1\" class=\"row_heading level0 row1\" >1</th>\n",
              "      <td id=\"T_8aaa5_row1_col0\" class=\"data row1 col0\" >rbf SVM</td>\n",
              "      <td id=\"T_8aaa5_row1_col1\" class=\"data row1 col1\" >1.000000</td>\n",
              "      <td id=\"T_8aaa5_row1_col2\" class=\"data row1 col2\" >0.970874</td>\n",
              "      <td id=\"T_8aaa5_row1_col3\" class=\"data row1 col3\" >0.985222</td>\n",
              "      <td id=\"T_8aaa5_row1_col4\" class=\"data row1 col4\" >0.985366</td>\n",
              "    </tr>\n",
              "    <tr>\n",
              "      <th id=\"T_8aaa5_level0_row2\" class=\"row_heading level0 row2\" >2</th>\n",
              "      <td id=\"T_8aaa5_row2_col0\" class=\"data row2 col0\" >poly SVM</td>\n",
              "      <td id=\"T_8aaa5_row2_col1\" class=\"data row2 col1\" >1.000000</td>\n",
              "      <td id=\"T_8aaa5_row2_col2\" class=\"data row2 col2\" >0.941748</td>\n",
              "      <td id=\"T_8aaa5_row2_col3\" class=\"data row2 col3\" >0.970000</td>\n",
              "      <td id=\"T_8aaa5_row2_col4\" class=\"data row2 col4\" >0.970732</td>\n",
              "    </tr>\n",
              "    <tr>\n",
              "      <th id=\"T_8aaa5_level0_row3\" class=\"row_heading level0 row3\" >3</th>\n",
              "      <td id=\"T_8aaa5_row3_col0\" class=\"data row3 col0\" >LogisticRegression</td>\n",
              "      <td id=\"T_8aaa5_row3_col1\" class=\"data row3 col1\" >0.735537</td>\n",
              "      <td id=\"T_8aaa5_row3_col2\" class=\"data row3 col2\" >0.864078</td>\n",
              "      <td id=\"T_8aaa5_row3_col3\" class=\"data row3 col3\" >0.794643</td>\n",
              "      <td id=\"T_8aaa5_row3_col4\" class=\"data row3 col4\" >0.775610</td>\n",
              "    </tr>\n",
              "    <tr>\n",
              "      <th id=\"T_8aaa5_level0_row4\" class=\"row_heading level0 row4\" >4</th>\n",
              "      <td id=\"T_8aaa5_row4_col0\" class=\"data row4 col0\" >DecisionTree</td>\n",
              "      <td id=\"T_8aaa5_row4_col1\" class=\"data row4 col1\" >1.000000</td>\n",
              "      <td id=\"T_8aaa5_row4_col2\" class=\"data row4 col2\" >0.970874</td>\n",
              "      <td id=\"T_8aaa5_row4_col3\" class=\"data row4 col3\" >0.985222</td>\n",
              "      <td id=\"T_8aaa5_row4_col4\" class=\"data row4 col4\" >0.985366</td>\n",
              "    </tr>\n",
              "    <tr>\n",
              "      <th id=\"T_8aaa5_level0_row5\" class=\"row_heading level0 row5\" >5</th>\n",
              "      <td id=\"T_8aaa5_row5_col0\" class=\"data row5 col0\" >BaggingDecisionTree</td>\n",
              "      <td id=\"T_8aaa5_row5_col1\" class=\"data row5 col1\" >0.944954</td>\n",
              "      <td id=\"T_8aaa5_row5_col2\" class=\"data row5 col2\" >1.000000</td>\n",
              "      <td id=\"T_8aaa5_row5_col3\" class=\"data row5 col3\" >0.971698</td>\n",
              "      <td id=\"T_8aaa5_row5_col4\" class=\"data row5 col4\" >0.970732</td>\n",
              "    </tr>\n",
              "    <tr>\n",
              "      <th id=\"T_8aaa5_level0_row6\" class=\"row_heading level0 row6\" >6</th>\n",
              "      <td id=\"T_8aaa5_row6_col0\" class=\"data row6 col0\" >RandomForest</td>\n",
              "      <td id=\"T_8aaa5_row6_col1\" class=\"data row6 col1\" >0.927273</td>\n",
              "      <td id=\"T_8aaa5_row6_col2\" class=\"data row6 col2\" >0.990291</td>\n",
              "      <td id=\"T_8aaa5_row6_col3\" class=\"data row6 col3\" >0.957746</td>\n",
              "      <td id=\"T_8aaa5_row6_col4\" class=\"data row6 col4\" >0.956098</td>\n",
              "    </tr>\n",
              "    <tr>\n",
              "      <th id=\"T_8aaa5_level0_row7\" class=\"row_heading level0 row7\" >7</th>\n",
              "      <td id=\"T_8aaa5_row7_col0\" class=\"data row7 col0\" >ExtraTrees</td>\n",
              "      <td id=\"T_8aaa5_row7_col1\" class=\"data row7 col1\" >0.884956</td>\n",
              "      <td id=\"T_8aaa5_row7_col2\" class=\"data row7 col2\" >0.970874</td>\n",
              "      <td id=\"T_8aaa5_row7_col3\" class=\"data row7 col3\" >0.925926</td>\n",
              "      <td id=\"T_8aaa5_row7_col4\" class=\"data row7 col4\" >0.921951</td>\n",
              "    </tr>\n",
              "    <tr>\n",
              "      <th id=\"T_8aaa5_level0_row8\" class=\"row_heading level0 row8\" >8</th>\n",
              "      <td id=\"T_8aaa5_row8_col0\" class=\"data row8 col0\" >AdaBoost</td>\n",
              "      <td id=\"T_8aaa5_row8_col1\" class=\"data row8 col1\" >1.000000</td>\n",
              "      <td id=\"T_8aaa5_row8_col2\" class=\"data row8 col2\" >0.970874</td>\n",
              "      <td id=\"T_8aaa5_row8_col3\" class=\"data row8 col3\" >0.985222</td>\n",
              "      <td id=\"T_8aaa5_row8_col4\" class=\"data row8 col4\" >0.985366</td>\n",
              "    </tr>\n",
              "    <tr>\n",
              "      <th id=\"T_8aaa5_level0_row9\" class=\"row_heading level0 row9\" >9</th>\n",
              "      <td id=\"T_8aaa5_row9_col0\" class=\"data row9 col0\" >GradientBoosting</td>\n",
              "      <td id=\"T_8aaa5_row9_col1\" class=\"data row9 col1\" >1.000000</td>\n",
              "      <td id=\"T_8aaa5_row9_col2\" class=\"data row9 col2\" >1.000000</td>\n",
              "      <td id=\"T_8aaa5_row9_col3\" class=\"data row9 col3\" >1.000000</td>\n",
              "      <td id=\"T_8aaa5_row9_col4\" class=\"data row9 col4\" >1.000000</td>\n",
              "    </tr>\n",
              "    <tr>\n",
              "      <th id=\"T_8aaa5_level0_row10\" class=\"row_heading level0 row10\" >10</th>\n",
              "      <td id=\"T_8aaa5_row10_col0\" class=\"data row10 col0\" >XGB</td>\n",
              "      <td id=\"T_8aaa5_row10_col1\" class=\"data row10 col1\" >1.000000</td>\n",
              "      <td id=\"T_8aaa5_row10_col2\" class=\"data row10 col2\" >0.970874</td>\n",
              "      <td id=\"T_8aaa5_row10_col3\" class=\"data row10 col3\" >0.985222</td>\n",
              "      <td id=\"T_8aaa5_row10_col4\" class=\"data row10 col4\" >0.985366</td>\n",
              "    </tr>\n",
              "    <tr>\n",
              "      <th id=\"T_8aaa5_level0_row11\" class=\"row_heading level0 row11\" >11</th>\n",
              "      <td id=\"T_8aaa5_row11_col0\" class=\"data row11 col0\" >Voting</td>\n",
              "      <td id=\"T_8aaa5_row11_col1\" class=\"data row11 col1\" >1.000000</td>\n",
              "      <td id=\"T_8aaa5_row11_col2\" class=\"data row11 col2\" >1.000000</td>\n",
              "      <td id=\"T_8aaa5_row11_col3\" class=\"data row11 col3\" >1.000000</td>\n",
              "      <td id=\"T_8aaa5_row11_col4\" class=\"data row11 col4\" >1.000000</td>\n",
              "    </tr>\n",
              "  </tbody>\n",
              "</table>\n"
            ]
          },
          "metadata": {},
          "execution_count": 23
        }
      ]
    },
    {
      "cell_type": "code",
      "source": [
        "from sklearn.inspection import permutation_importance\n",
        "\n",
        "perm_importance = permutation_importance(grid_GB.best_estimator_, X_test, y_test)\n",
        "feature_names = df.columns\n",
        "features = np.array(feature_names)\n",
        "sorted_idx = perm_importance.importances_mean.argsort()\n",
        "plt.barh(features[sorted_idx], perm_importance.importances_mean[sorted_idx])\n",
        "plt.show()\n"
      ],
      "metadata": {
        "colab": {
          "base_uri": "https://localhost:8080/",
          "height": 265
        },
        "id": "4_mveqNu9j22",
        "outputId": "f0f6f3ff-1d40-4b1d-fc92-32fff97c3064"
      },
      "execution_count": 18,
      "outputs": [
        {
          "output_type": "display_data",
          "data": {
            "text/plain": [
              "<Figure size 432x288 with 1 Axes>"
            ],
            "image/png": "[encoded data removed]"
          },
          "metadata": {
            "needs_background": "light"
          }
        }
      ]
    },
    {
      "cell_type": "code",
      "source": [
        "perm_importance = permutation_importance(voting_clf, X_test, y_test)\n",
        "feature_names = df.columns\n",
        "features = np.array(feature_names)\n",
        "sorted_idx = perm_importance.importances_mean.argsort()\n",
        "plt.barh(features[sorted_idx], perm_importance.importances_mean[sorted_idx])\n",
        "plt.show()"
      ],
      "metadata": {
        "colab": {
          "base_uri": "https://localhost:8080/",
          "height": 265
        },
        "id": "sVfH9PAO0gJn",
        "outputId": "2f386033-36f2-485a-fba1-fb4d270de454"
      },
      "execution_count": 21,
      "outputs": [
        {
          "output_type": "display_data",
          "data": {
            "text/plain": [
              "<Figure size 432x288 with 1 Axes>"
            ],
            "image/png": "[encoded data removed]"
          },
          "metadata": {
            "needs_background": "light"
          }
        }
      ]
    },
    {
      "cell_type": "code",
      "source": [
        ""
      ],
      "metadata": {
        "id": "xd5cIaUv4mlG"
      },
      "execution_count": null,
      "outputs": []
    }
  ]
}